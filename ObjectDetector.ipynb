{
  "nbformat": 4,
  "nbformat_minor": 5,
  "metadata": {
    "language_info": {
      "name": "python",
      "version": "3.7.8",
      "mimetype": "text/x-python",
      "codemirror_mode": {
        "name": "ipython",
        "version": 3
      },
      "pygments_lexer": "ipython3",
      "nbconvert_exporter": "python",
      "file_extension": ".py"
    },
    "kernelspec": {
      "name": "python3",
      "display_name": "Python 3",
      "language": "python"
    },
    "colab": {
      "name": "ObjectDetector.ipynb",
      "provenance": [],
      "collapsed_sections": [],
      "toc_visible": true
    }
  },
  "cells": [
    {
      "cell_type": "code",
      "metadata": {
        "colab": {
          "base_uri": "https://localhost:8080/"
        },
        "id": "WBJdgv7tahuI",
        "outputId": "7664cf3b-f30d-4169-ac31-a112b5b93e4c"
      },
      "source": [
        "import requests\n",
        "import json\n",
        "\n",
        "predictionUrl = \"\"\n",
        "predictionKey = \"\"\n",
        "\n",
        "def predict(image):\n",
        "  headers = {'content-type' : 'application/octet-stream','Prediction-Key' : predictionKey}\n",
        "  request = requests.post(predictionUrl,data=open(image,\"rb\"),headers=headers)\n",
        "\n",
        "  probability = json.loads(request.content.decode('utf8').replace(\"'\", '\"'))['predictions'][0]['probability']\n",
        "  tag = json.loads(request.content.decode('utf8').replace(\"'\", '\"'))['predictions'][0]['tagName']\n",
        "  box = json.loads(request.content.decode('utf8').replace(\"'\", '\"'))['predictions'][0]['boundingBox']\n",
        "\n",
        "  return probability, tag, box\n",
        "\n",
        "print(predict(\"sample.jpg\"))"
      ],
      "id": "WBJdgv7tahuI",
      "execution_count": 35,
      "outputs": [
        {
          "output_type": "stream",
          "text": [
            "(0.92584467, 'lady_beetle', {'left': 0.093494415, 'top': 0.2742829, 'width': 0.755642, 'height': 0.55387485})\n"
          ],
          "name": "stdout"
        }
      ]
    },
    {
      "cell_type": "code",
      "metadata": {
        "id": "_oBuQXIZbQSH"
      },
      "source": [
        ""
      ],
      "id": "_oBuQXIZbQSH",
      "execution_count": null,
      "outputs": []
    }
  ]
}