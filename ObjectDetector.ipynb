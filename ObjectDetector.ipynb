{
  "nbformat": 4,
  "nbformat_minor": 5,
  "metadata": {
    "colab": {
      "name": "ObjectDetector.ipynb",
      "provenance": [],
      "collapsed_sections": []
    },
    "kernelspec": {
      "display_name": "Python 3",
      "language": "python",
      "name": "python3"
    },
    "language_info": {
      "codemirror_mode": {
        "name": "ipython",
        "version": 3
      },
      "file_extension": ".py",
      "mimetype": "text/x-python",
      "name": "python",
      "nbconvert_exporter": "python",
      "pygments_lexer": "ipython3",
      "version": "3.8.3"
    }
  },
  "cells": [
    {
      "cell_type": "code",
      "metadata": {
        "id": "agbo8MS1DQFs",
        "tags": [],
        "colab": {
          "base_uri": "https://localhost:8080/"
        },
        "outputId": "b21e5bac-ba3c-42d8-bdfd-7f75110c0a7d"
      },
      "source": [
        "from cv2 import cv2\n",
        "import numpy as np\n",
        "import os\n",
        "\n",
        "# Playing video from file:\n",
        "cap = cv2.VideoCapture('input6.mp4') # change this to video in question \n",
        "\n",
        "try:\n",
        "    if not os.path.exists('data'):\n",
        "        os.makedirs('data')\n",
        "except OSError:\n",
        "    print ('Error: Creating directory of data')\n",
        "\n",
        "currentFrame = 0\n",
        "while(true):\n",
        "    # Capture frame-by-frame\n",
        "    ret, frame = cap.read()\n",
        "\n",
        "    # Saves image of the current frame in jpg file\n",
        "    name = './data/' + str(int(currentFrame)) + '.jpg'\n",
        "    print ('Creating...' + name)\n",
        "    cv2.imwrite(name, frame)\n",
        "\n",
        "    # To stop duplicate images\n",
        "    currentFrame += 1\n",
        "\n",
        "# When everything done, release the capture\n",
        "cap.release()\n",
        "cv2.destroyAllWindows()"
      ],
      "id": "agbo8MS1DQFs",
      "execution_count": 59,
      "outputs": [
        {
          "output_type": "stream",
          "text": [
            "Creating..../data/0.jpg\n",
            "Creating..../data/1.jpg\n",
            "Creating..../data/2.jpg\n",
            "Creating..../data/3.jpg\n",
            "Creating..../data/4.jpg\n",
            "Creating..../data/5.jpg\n",
            "Creating..../data/6.jpg\n",
            "Creating..../data/7.jpg\n",
            "Creating..../data/8.jpg\n",
            "Creating..../data/9.jpg\n"
          ],
          "name": "stdout"
        }
      ]
    },
    {
      "cell_type": "code",
      "metadata": {
        "id": "WBJdgv7tahuI"
      },
      "source": [
        "import requests\n",
        "import json\n",
        "\n",
        "predictionUrl = 'https://myazurecustomvision.cognitiveservices.azure.com/customvision/v3.0/Prediction/fd698d74-978e-440e-b34f-a802c01f5d87/detect/iterations/Iteration3/image'\n",
        "predictionKey = '9a1d0210845f417c8728965579867416'\n",
        "\n",
        "def predict(image):\n",
        "  headers = {'content-type' : 'application/octet-stream','Prediction-Key' : predictionKey}\n",
        "  request = requests.post(predictionUrl,data=open(image,\"rb\"),headers=headers)\n",
        "\n",
        "  probability = json.loads(request.content.decode('utf8').replace(\"'\", '\"'))['predictions'][0]['probability']\n",
        "  tag = json.loads(request.content.decode('utf8').replace(\"'\", '\"'))['predictions'][0]['tagName']\n",
        "  box = json.loads(request.content.decode('utf8').replace(\"'\", '\"'))['predictions'][0]['boundingBox']\n",
        "\n",
        "  return probability, tag, box\n",
        "  "
      ],
      "id": "WBJdgv7tahuI",
      "execution_count": 60,
      "outputs": []
    },
    {
      "cell_type": "code",
      "metadata": {
        "id": "fuguANpZG2AH",
        "colab": {
          "base_uri": "https://localhost:8080/"
        },
        "outputId": "c5838aa7-2bd9-425b-d2fb-79b98934586e"
      },
      "source": [
        "import time\n",
        "\n",
        "myList = []\n",
        "\n",
        "for i in range(0, len(os.listdir('data')) - 1):\n",
        "  myList.append(predict(\"./data/\" + str(i) + \".jpg\"))\n",
        "  print(predict(\"./data/\" + str(i) + \".jpg\"))\n",
        "  time.sleep(0.5)"
      ],
      "id": "fuguANpZG2AH",
      "execution_count": 61,
      "outputs": [
        {
          "output_type": "stream",
          "text": [
            "(0.6036086, 'spider', {'left': 0.41173834, 'top': 0.3230366, 'width': 0.19234324, 'height': 0.46406806})\n",
            "(0.5737978, 'aphid', {'left': 0.4093544, 'top': 0.32467747, 'width': 0.1664784, 'height': 0.44332755})\n",
            "(0.54032975, 'spider', {'left': 0.41350654, 'top': 0.3104679, 'width': 0.18639812, 'height': 0.48192352})\n",
            "(0.83375347, 'spider', {'left': 0.41514337, 'top': 0.33633888, 'width': 0.1569745, 'height': 0.45399106})\n",
            "(0.8202217, 'spider', {'left': 0.41417712, 'top': 0.329432, 'width': 0.16116643, 'height': 0.46590662})\n",
            "(0.7744226, 'spider', {'left': 0.42336085, 'top': 0.31328237, 'width': 0.17278585, 'height': 0.48721087})\n",
            "(0.7797395, 'spider', {'left': 0.42314136, 'top': 0.33466983, 'width': 0.17576742, 'height': 0.44006038})\n",
            "(0.8312948, 'spider', {'left': 0.42592, 'top': 0.3155123, 'width': 0.17988026, 'height': 0.47880065})\n",
            "(0.6491652, 'spider', {'left': 0.42870685, 'top': 0.30587086, 'width': 0.17740574, 'height': 0.50007045})\n"
          ],
          "name": "stdout"
        }
      ]
    },
    {
      "cell_type": "code",
      "metadata": {
        "id": "5U8xNQn1NmQz"
      },
      "source": [
        "def drawBox(boxDetails, image, i):\n",
        "  x = boxDetails[2]['left']\n",
        "  y = boxDetails[2]['top']\n",
        "  w = boxDetails[2]['width']\n",
        "  h = boxDetails[2]['height']\n",
        "  \n",
        "  width, height, channels = image.shape\n",
        "\n",
        "  startX = int(x * height)\n",
        "  startY = int(y * width)\n",
        "  endX = int(w * height) + startX\n",
        "  endY = int(h * width) + startY\n",
        "\n",
        "  cv2.imwrite(\"data/%d.jpg\" % i, cv2.rectangle(image, (startX, startY), (endX, endY), (155, 255, 0), 2))"
      ],
      "id": "5U8xNQn1NmQz",
      "execution_count": 62,
      "outputs": []
    },
    {
      "cell_type": "code",
      "metadata": {
        "id": "aBmNxFIUNPW9"
      },
      "source": [
        "for i in range(0, len(os.listdir('data')) - 1):\n",
        "  image = cv2.imread(\"./data/\" + str(i) + \".jpg\")\n",
        "  drawBox(myList[i], image, i)"
      ],
      "id": "aBmNxFIUNPW9",
      "execution_count": 63,
      "outputs": []
    },
    {
      "cell_type": "code",
      "metadata": {
        "id": "lgAG5ncYNvPb"
      },
      "source": [
        "#Reassemble drawn images here into video"
      ],
      "id": "lgAG5ncYNvPb",
      "execution_count": 64,
      "outputs": []
    }
  ]
}