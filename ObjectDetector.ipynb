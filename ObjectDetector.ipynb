{
  "nbformat": 4,
  "nbformat_minor": 5,
  "metadata": {
    "colab": {
      "name": "ObjectDetector.ipynb",
      "provenance": [],
      "collapsed_sections": []
    },
    "kernelspec": {
      "display_name": "Python 3",
      "language": "python",
      "name": "python3"
    },
    "language_info": {
      "codemirror_mode": {
        "name": "ipython",
        "version": 3
      },
      "file_extension": ".py",
      "mimetype": "text/x-python",
      "name": "python",
      "nbconvert_exporter": "python",
      "pygments_lexer": "ipython3",
      "version": "3.8.3"
    }
  },
  "cells": [
    {
      "cell_type": "code",
      "metadata": {
        "id": "agbo8MS1DQFs",
        "tags": []
      },
      "source": [
        "from cv2 import cv2\n",
        "import numpy as np\n",
        "import os\n",
        "\n",
        "# Playing video from file:\n",
        "cap = cv2.VideoCapture('input.mp4') # change this to video in question \n",
        "\n",
        "try:\n",
        "    if not os.path.exists('data'):\n",
        "        os.makedirs('data')\n",
        "except OSError:\n",
        "    print ('Error: Creating directory of data')\n",
        "\n",
        "currentFrame = 0\n",
        "while(True):\n",
        "    # Capture frame-by-frame\n",
        "    ret, frame = cap.read()\n",
        "\n",
        "    # Saves image of the current frame in jpg file\n",
        "    name = './data/' + str(int(currentFrame)) + '.jpg'\n",
        "    print ('Creating...' + name)\n",
        "    cv2.imwrite(name, frame)\n",
        "\n",
        "    # To stop duplicate images\n",
        "    currentFrame += 1\n",
        "\n",
        "# When everything done, release the capture\n",
        "cap.release()\n",
        "cv2.destroyAllWindows()"
      ],
      "id": "agbo8MS1DQFs",
      "execution_count": null,
      "outputs": []
    },
    {
      "cell_type": "code",
      "metadata": {
        "id": "WBJdgv7tahuI"
      },
      "source": [
        "import requests\n",
        "import json\n",
        "\n",
        "predictionUrl = 'https://myazurecustomvision.cognitiveservices.azure.com/customvision/v3.0/Prediction/fd698d74-978e-440e-b34f-a802c01f5d87/detect/iterations/Iteration3/image'\n",
        "predictionKey = '9a1d0210845f417c8728965579867416'\n",
        "\n",
        "def predict(image):\n",
        "  headers = {'content-type' : 'application/octet-stream','Prediction-Key' : predictionKey}\n",
        "  request = requests.post(predictionUrl,data=open(image,\"rb\"),headers=headers)\n",
        "\n",
        "  data = json.loads(request.content.decode('utf8').replace(\"'\", '\"'))['predictions']\n",
        "\n",
        "  predictions = []\n",
        "\n",
        "  for i in data:\n",
        "    if i['probability'] > 0.7:\n",
        "      predictions.append([i['tagName'], i['boundingBox']])\n",
        "\n",
        "  return predictions"
      ],
      "id": "WBJdgv7tahuI",
      "execution_count": 33,
      "outputs": []
    },
    {
      "cell_type": "code",
      "metadata": {
        "id": "fuguANpZG2AH"
      },
      "source": [
        "import time\n",
        "\n",
        "myList = []\n",
        "\n",
        "for i in range(0, len(os.listdir('data')) - 1):\n",
        "  myList.append(predict(\"./data/\" + str(i) + \".jpg\"))\n",
        "  time.sleep(0.5)"
      ],
      "id": "fuguANpZG2AH",
      "execution_count": 34,
      "outputs": []
    },
    {
      "cell_type": "code",
      "metadata": {
        "id": "5U8xNQn1NmQz"
      },
      "source": [
        "def drawBox(boxDetails, image, i):\n",
        "  for j in boxDetails:\n",
        "    x = j[1]['left']\n",
        "    y = j[1]['top']\n",
        "    w = j[1]['width']\n",
        "    h = j[1]['height']\n",
        "    \n",
        "    width, height, channels = image.shape\n",
        "\n",
        "    startX = int(x * height)\n",
        "    startY = int(y * width)\n",
        "    endX = int(w * height) + startX\n",
        "    endY = int(h * width) + startY\n",
        "\n",
        "    cv2.putText(image, j[0], (startX, startY - 10), cv2.FONT_HERSHEY_SIMPLEX, 0.5, (155, 255, 0), 1)\n",
        "    cv2.rectangle(image, (startX, startY), (endX, endY), (155, 255, 0), 2)\n",
        "  cv2.imwrite(\"data/%d.jpg\" % i, image)"
      ],
      "id": "5U8xNQn1NmQz",
      "execution_count": 35,
      "outputs": []
    },
    {
      "cell_type": "code",
      "metadata": {
        "id": "aBmNxFIUNPW9"
      },
      "source": [
        "for i in range(0, len(os.listdir('data')) - 1):\n",
        "  image = cv2.imread(\"./data/\" + str(i) + \".jpg\")\n",
        "  drawBox(myList[i], image, i)"
      ],
      "id": "aBmNxFIUNPW9",
      "execution_count": 36,
      "outputs": []
    },
    {
      "cell_type": "code",
      "metadata": {
        "id": "lgAG5ncYNvPb"
      },
      "source": [
        "#Reassemble drawn images here into video\n",
        "images = []\n",
        "\n",
        "for i in range(0, len(os.listdir('data')) - 1):\n",
        "  images.append(\"data/%d.jpg\" % i)\n",
        "\n",
        "frame = cv2.imread('data/0.jpg')\n",
        "height, width, layers = frame.shape\n",
        "\n",
        "video = cv2.VideoWriter('output.mp4', cv2.VideoWriter_fourcc(*'MP4V'), 20.0, (width,height))\n",
        "\n",
        "for image in images:\n",
        "    video.write(cv2.imread(image))\n",
        "\n",
        "cv2.destroyAllWindows()\n",
        "video.release()"
      ],
      "id": "lgAG5ncYNvPb",
      "execution_count": null,
      "outputs": []
    }
  ]
}