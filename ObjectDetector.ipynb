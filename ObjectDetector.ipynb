{
  "nbformat": 4,
  "nbformat_minor": 5,
  "metadata": {
    "language_info": {
      "name": "python",
      "version": "3.7.8",
      "mimetype": "text/x-python",
      "codemirror_mode": {
        "name": "ipython",
        "version": 3
      },
      "pygments_lexer": "ipython3",
      "nbconvert_exporter": "python",
      "file_extension": ".py"
    },
    "kernelspec": {
      "name": "python3",
      "display_name": "Python 3",
      "language": "python"
    },
    "colab": {
      "name": "ObjectDetector.ipynb",
      "provenance": [],
      "collapsed_sections": [],
      "toc_visible": true
    }
  },
  "cells": [
    {
      "cell_type": "code",
      "metadata": {
        "id": "agbo8MS1DQFs"
      },
      "source": [
        "from cv2 import cv2\n",
        "import numpy as np\n",
        "import os\n",
        "\n",
        "# Playing video from file:\n",
        "cap = cv2.VideoCapture('test.mp4') # change this to video in question \n",
        "\n",
        "try:\n",
        "    if not os.path.exists('data'):\n",
        "        os.makedirs('data')\n",
        "except OSError:\n",
        "    print ('Error: Creating directory of data')\n",
        "\n",
        "currentFrame = 0\n",
        "while(True):\n",
        "    # Capture frame-by-frame\n",
        "    ret, frame = cap.read()\n",
        "\n",
        "    # Saves image of the current frame in jpg file\n",
        "    name = './data/' + str(int(currentFrame/3)) + '.jpg'\n",
        "    print ('Creating...' + name)\n",
        "    cv2.imwrite(name, frame)\n",
        "\n",
        "    # To stop duplicate images\n",
        "    currentFrame += 3 # jumps 3 frames to give about one frame per 8 milliseconds\n",
        "\n",
        "# When everything done, release the capture\n",
        "cap.release()\n",
        "cv2.destroyAllWindows()"
      ],
      "id": "agbo8MS1DQFs",
      "execution_count": null,
      "outputs": []
    },
    {
      "cell_type": "code",
      "metadata": {
        "id": "WBJdgv7tahuI"
      },
      "source": [
        "import requests\n",
        "import json\n",
        "\n",
        "predictionUrl = 'https://myazurecustomvision.cognitiveservices.azure.com/customvision/v3.0/Prediction/fd698d74-978e-440e-b34f-a802c01f5d87/detect/iterations/Iteration3/image'\n",
        "predictionKey = '9a1d0210845f417c8728965579867416'\n",
        "\n",
        "def predict(image):\n",
        "  headers = {'content-type' : 'application/octet-stream','Prediction-Key' : predictionKey}\n",
        "  request = requests.post(predictionUrl,data=open(image,\"rb\"),headers=headers)\n",
        "\n",
        "  probability = json.loads(request.content.decode('utf8').replace(\"'\", '\"'))['predictions'][0]['probability']\n",
        "  tag = json.loads(request.content.decode('utf8').replace(\"'\", '\"'))['predictions'][0]['tagName']\n",
        "  box = json.loads(request.content.decode('utf8').replace(\"'\", '\"'))['predictions'][0]['boundingBox']\n",
        "\n",
        "  return probability, tag, box"
      ],
      "id": "WBJdgv7tahuI",
      "execution_count": 2,
      "outputs": []
    },
    {
      "cell_type": "code",
      "metadata": {
        "id": "fuguANpZG2AH"
      },
      "source": [
        "import time\n",
        "\n",
        "myList = []\n",
        "\n",
        "for i in range(0, len(os.listdir('data')) - 1):\n",
        "  myList.append(predict(\"./data/\" + str(i) + \".jpg\"))\n",
        "  time.sleep(0.5)"
      ],
      "id": "fuguANpZG2AH",
      "execution_count": null,
      "outputs": []
    },
    {
      "cell_type": "code",
      "metadata": {
        "id": "5U8xNQn1NmQz"
      },
      "source": [
        "def drawBox():\n",
        "  #TODO"
      ],
      "id": "5U8xNQn1NmQz",
      "execution_count": null,
      "outputs": []
    },
    {
      "cell_type": "code",
      "metadata": {
        "id": "aBmNxFIUNPW9"
      },
      "source": [
        "for i in range(0, len(os.listdir('data')) - 1):\n",
        "  drawBox(myList[i], './data/\" + str(i) + \".jpg')"
      ],
      "id": "aBmNxFIUNPW9",
      "execution_count": null,
      "outputs": []
    },
    {
      "cell_type": "code",
      "metadata": {
        "id": "lgAG5ncYNvPb"
      },
      "source": [
        "#Reassemble drawn images here into video"
      ],
      "id": "lgAG5ncYNvPb",
      "execution_count": null,
      "outputs": []
    }
  ]
}